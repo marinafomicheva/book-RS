{
 "cells": [
  {
   "cell_type": "markdown",
   "id": "f3f667fc-13df-4571-86cc-d01d2096a7d1",
   "metadata": {},
   "source": [
    "**Introduction:**\n",
    "    This code implements a book recommendation system using the TF-IDF (Term Frequency-Inverse Document Frequency) and Cosine similarity algorithms. The goal of this system is to recommend books to users based on the similarity of their plot summaries. "
   ]
  },
  {
   "cell_type": "markdown",
   "id": "4963f917-edb5-4deb-910d-127649fd495c",
   "metadata": {},
   "source": [
    "**1. Import necessary libraries**"
   ]
  },
  {
   "cell_type": "code",
   "execution_count": 1,
   "id": "d4ea1f0b-9edb-4709-b5a1-7571e594afb0",
   "metadata": {},
   "outputs": [],
   "source": [
    "import numpy as np\n",
    "import pandas as pd\n",
    "import spacy\n",
    "import re\n",
    "import csv\n",
    "from tqdm import tqdm\n",
    "\n",
    "pd.set_option(\"display.max_colwidth\", 300) # Set display options for Pandas DataFrame\n",
    "# Import modules for text processing and similarity calculation\n",
    "from sklearn.feature_extraction.text import TfidfVectorizer  # For TF-IDF vectorization\n",
    "from sklearn.metrics.pairwise import cosine_similarity   # For calculating cosine similarity\n",
    "\n",
    "# Import matplotlib.pyplot for plotting graphs\n",
    "import matplotlib.pyplot as plt\n",
    "\n",
    "# Configure matplotlib to display the output inline\n",
    "%matplotlib inline"
   ]
  },
  {
   "cell_type": "markdown",
   "id": "419738a9-66fc-4c60-8e18-3d7b19f31d17",
   "metadata": {},
   "source": [
    "**2. Data Acquisition**: For our book recommendation system, we used the CMU Book Summary Dataset from Kaggle (https://www.kaggle.com/datasets/ymaricar/cmu-book-summary-dataset). It contains plot summaries for 16 559 books extracted from Wikipedia, along with their metadata. \n"
   ]
  },
  {
   "cell_type": "code",
   "execution_count": 2,
   "id": "5caddd9b-83ea-4a3c-8423-2eef3ef9241f",
   "metadata": {},
   "outputs": [
    {
     "name": "stderr",
     "output_type": "stream",
     "text": [
      "16559it [00:00, 29658.46it/s]\n"
     ]
    }
   ],
   "source": [
    "# Read and process data from the CSV file\n",
    "data = []\n",
    "with open(\"booksummaries.txt\", \"r\") as f:\n",
    "    reader = csv.reader(f, dialect=\"excel-tab\")\n",
    "    for row in tqdm(reader):\n",
    "        data.append(row)"
   ]
  },
  {
   "cell_type": "code",
   "execution_count": 3,
   "id": "8366824b-f8e8-4893-a8bc-8ea9b530a51d",
   "metadata": {},
   "outputs": [
    {
     "name": "stderr",
     "output_type": "stream",
     "text": [
      "100%|█████████████████████████████████| 16559/16559 [00:00<00:00, 500453.81it/s]\n"
     ]
    },
    {
     "data": {
      "text/html": [
       "<div>\n",
       "<style scoped>\n",
       "    .dataframe tbody tr th:only-of-type {\n",
       "        vertical-align: middle;\n",
       "    }\n",
       "\n",
       "    .dataframe tbody tr th {\n",
       "        vertical-align: top;\n",
       "    }\n",
       "\n",
       "    .dataframe thead th {\n",
       "        text-align: right;\n",
       "    }\n",
       "</style>\n",
       "<table border=\"1\" class=\"dataframe\">\n",
       "  <thead>\n",
       "    <tr style=\"text-align: right;\">\n",
       "      <th></th>\n",
       "      <th>Index</th>\n",
       "      <th>ID</th>\n",
       "      <th>BookTitle</th>\n",
       "      <th>Author</th>\n",
       "      <th>Genre</th>\n",
       "      <th>Summary</th>\n",
       "    </tr>\n",
       "  </thead>\n",
       "  <tbody>\n",
       "    <tr>\n",
       "      <th>0</th>\n",
       "      <td>1</td>\n",
       "      <td>620</td>\n",
       "      <td>Animal Farm</td>\n",
       "      <td>George Orwell</td>\n",
       "      <td>{\"/m/016lj8\": \"Roman \\u00e0 clef\", \"/m/06nbt\": \"Satire\", \"/m/0dwly\": \"Children's literature\", \"/m/014dfn\": \"Speculative fiction\", \"/m/02xlf\": \"Fiction\"}</td>\n",
       "      <td>Old Major, the old boar on the Manor Farm, calls the animals on the farm for a meeting, where he compares the humans to parasites and teaches the animals a revolutionary song, 'Beasts of England'. When Major dies, two young pigs, Snowball and Napoleon, assume command and turn his dream into a p...</td>\n",
       "    </tr>\n",
       "    <tr>\n",
       "      <th>1</th>\n",
       "      <td>2</td>\n",
       "      <td>843</td>\n",
       "      <td>A Clockwork Orange</td>\n",
       "      <td>Anthony Burgess</td>\n",
       "      <td>{\"/m/06n90\": \"Science Fiction\", \"/m/0l67h\": \"Novella\", \"/m/014dfn\": \"Speculative fiction\", \"/m/0c082\": \"Utopian and dystopian fiction\", \"/m/06nbt\": \"Satire\", \"/m/02xlf\": \"Fiction\"}</td>\n",
       "      <td>Alex, a teenager living in near-future England, leads his gang on nightly orgies of opportunistic, random \"ultra-violence.\" Alex's friends (\"droogs\" in the novel's Anglo-Russian slang, Nadsat) are: Dim, a slow-witted bruiser who is the gang's muscle; Georgie, an ambitious second-in-command; and...</td>\n",
       "    </tr>\n",
       "    <tr>\n",
       "      <th>2</th>\n",
       "      <td>3</td>\n",
       "      <td>986</td>\n",
       "      <td>The Plague</td>\n",
       "      <td>Albert Camus</td>\n",
       "      <td>{\"/m/02m4t\": \"Existentialism\", \"/m/02xlf\": \"Fiction\", \"/m/0pym5\": \"Absurdist fiction\", \"/m/05hgj\": \"Novel\"}</td>\n",
       "      <td>The text of The Plague is divided into five parts. In the town of Oran, thousands of rats, initially unnoticed by the populace, begin to die in the streets. A hysteria develops soon afterward, causing the local newspapers to report the incident. Authorities responding to public pressure order t...</td>\n",
       "    </tr>\n",
       "    <tr>\n",
       "      <th>3</th>\n",
       "      <td>4</td>\n",
       "      <td>1756</td>\n",
       "      <td>An Enquiry Concerning Human Understanding</td>\n",
       "      <td>David Hume</td>\n",
       "      <td></td>\n",
       "      <td>The argument of the Enquiry proceeds by a series of incremental steps, separated into chapters which logically succeed one another. After expounding his epistemology, Hume explains how to apply his principles to specific topics. In the first section of the Enquiry, Hume provides a rough introdu...</td>\n",
       "    </tr>\n",
       "    <tr>\n",
       "      <th>4</th>\n",
       "      <td>5</td>\n",
       "      <td>2080</td>\n",
       "      <td>A Fire Upon the Deep</td>\n",
       "      <td>Vernor Vinge</td>\n",
       "      <td>{\"/m/03lrw\": \"Hard science fiction\", \"/m/06n90\": \"Science Fiction\", \"/m/014dfn\": \"Speculative fiction\", \"/m/01hmnh\": \"Fantasy\", \"/m/02xlf\": \"Fiction\"}</td>\n",
       "      <td>The novel posits that space around the Milky Way is divided into concentric layers called Zones, each being constrained by different laws of physics and each allowing for different degrees of biological and technological advancement. The innermost, the \"Unthinking Depths\", surrounds the galacti...</td>\n",
       "    </tr>\n",
       "  </tbody>\n",
       "</table>\n",
       "</div>"
      ],
      "text/plain": [
       "   Index    ID                                  BookTitle           Author  \\\n",
       "0      1   620                                Animal Farm    George Orwell   \n",
       "1      2   843                         A Clockwork Orange  Anthony Burgess   \n",
       "2      3   986                                 The Plague     Albert Camus   \n",
       "3      4  1756  An Enquiry Concerning Human Understanding       David Hume   \n",
       "4      5  2080                       A Fire Upon the Deep     Vernor Vinge   \n",
       "\n",
       "                                                                                                                                                                                  Genre  \\\n",
       "0                              {\"/m/016lj8\": \"Roman \\u00e0 clef\", \"/m/06nbt\": \"Satire\", \"/m/0dwly\": \"Children's literature\", \"/m/014dfn\": \"Speculative fiction\", \"/m/02xlf\": \"Fiction\"}   \n",
       "1  {\"/m/06n90\": \"Science Fiction\", \"/m/0l67h\": \"Novella\", \"/m/014dfn\": \"Speculative fiction\", \"/m/0c082\": \"Utopian and dystopian fiction\", \"/m/06nbt\": \"Satire\", \"/m/02xlf\": \"Fiction\"}   \n",
       "2                                                                           {\"/m/02m4t\": \"Existentialism\", \"/m/02xlf\": \"Fiction\", \"/m/0pym5\": \"Absurdist fiction\", \"/m/05hgj\": \"Novel\"}   \n",
       "3                                                                                                                                                                                         \n",
       "4                                {\"/m/03lrw\": \"Hard science fiction\", \"/m/06n90\": \"Science Fiction\", \"/m/014dfn\": \"Speculative fiction\", \"/m/01hmnh\": \"Fantasy\", \"/m/02xlf\": \"Fiction\"}   \n",
       "\n",
       "                                                                                                                                                                                                                                                                                                       Summary  \n",
       "0   Old Major, the old boar on the Manor Farm, calls the animals on the farm for a meeting, where he compares the humans to parasites and teaches the animals a revolutionary song, 'Beasts of England'. When Major dies, two young pigs, Snowball and Napoleon, assume command and turn his dream into a p...  \n",
       "1   Alex, a teenager living in near-future England, leads his gang on nightly orgies of opportunistic, random \"ultra-violence.\" Alex's friends (\"droogs\" in the novel's Anglo-Russian slang, Nadsat) are: Dim, a slow-witted bruiser who is the gang's muscle; Georgie, an ambitious second-in-command; and...  \n",
       "2   The text of The Plague is divided into five parts. In the town of Oran, thousands of rats, initially unnoticed by the populace, begin to die in the streets. A hysteria develops soon afterward, causing the local newspapers to report the incident. Authorities responding to public pressure order t...  \n",
       "3   The argument of the Enquiry proceeds by a series of incremental steps, separated into chapters which logically succeed one another. After expounding his epistemology, Hume explains how to apply his principles to specific topics. In the first section of the Enquiry, Hume provides a rough introdu...  \n",
       "4   The novel posits that space around the Milky Way is divided into concentric layers called Zones, each being constrained by different laws of physics and each allowing for different degrees of biological and technological advancement. The innermost, the \"Unthinking Depths\", surrounds the galacti...  "
      ]
     },
     "execution_count": 3,
     "metadata": {},
     "output_type": "execute_result"
    }
   ],
   "source": [
    "# Extract relevant information from the data and create a DataFrame\n",
    "book_index = []\n",
    "book_id = []\n",
    "book_author = []\n",
    "book_name = []\n",
    "summary = []\n",
    "genre = []\n",
    "a = 1\n",
    "for i in tqdm(data):\n",
    "    book_index.append(a)\n",
    "    a = a + 1\n",
    "    book_id.append(i[0])\n",
    "    book_name.append(i[2])\n",
    "    book_author.append(i[3])\n",
    "    genre.append(i[5])\n",
    "    summary.append(i[6])\n",
    "\n",
    "book_df = pd.DataFrame(\n",
    "    {\n",
    "        \"Index\": book_index,\n",
    "        \"ID\": book_id,\n",
    "        \"BookTitle\": book_name,\n",
    "        \"Author\": book_author,\n",
    "        \"Genre\": genre,\n",
    "        \"Summary\": summary,\n",
    "    }\n",
    ")\n",
    "book_df.head()"
   ]
  },
  {
   "cell_type": "markdown",
   "id": "efb7e6d8-6efa-4a9e-81a6-36173e72ad1b",
   "metadata": {},
   "source": [
    "**3. Text Preprocessing**: Plot summaries are tokenized and lemmatized using the SpaCy library. "
   ]
  },
  {
   "cell_type": "code",
   "execution_count": 4,
   "id": "f4095f98-8ae6-4cdb-86cf-0396f4f30251",
   "metadata": {},
   "outputs": [],
   "source": [
    "# Load the SpaCy English model\n",
    "nlp = spacy.load(\"en_core_web_sm\")"
   ]
  },
  {
   "cell_type": "code",
   "execution_count": 5,
   "id": "159a68b5-bf2d-4ec4-92ac-b270036ec676",
   "metadata": {},
   "outputs": [],
   "source": [
    "# Clean the summary text using SpaCy and create a new column for cleaned summaries\n",
    "def clean_summary(text):\n",
    "    doc = nlp(text)  # Process the input text using spaCy\n",
    "    cleaned_tokens = [token.lemma_ for token in doc if token.is_alpha]  # Retrieve the lemma of each token\n",
    "    cleaned_text = \" \".join(cleaned_tokens)  # Join the list of cleaned tokens into a single string\n",
    "    return cleaned_text\n",
    "\n",
    "book_df[\"clean_summary\"] = book_df[\"Summary\"].apply(lambda x: clean_summary(x))\n",
    "\n",
    "# Save the DataFrame with cleaned summaries to a CSV file\n",
    "book_df.to_csv(\"book_clean.csv\")"
   ]
  },
  {
   "cell_type": "markdown",
   "id": "76b12464-99c6-4fba-9e2b-5b07fa883b83",
   "metadata": {},
   "source": [
    "**4. Feature Extraction**: TF-IDF vectorization is applied to represent each summary as a numerical feature vector. "
   ]
  },
  {
   "cell_type": "code",
   "execution_count": 6,
   "id": "967b248b-40e1-439c-b0b6-58b299d63813",
   "metadata": {},
   "outputs": [],
   "source": [
    "# Instantiate TF-IDF vectorizer object with specified parameters\n",
    "tfidf_vectorizer = TfidfVectorizer(\n",
    "    max_df=0.8,  # Ignore terms that appear in more than 80% of documents\n",
    "    max_features=200000,  # Limit the number of features to 200,000\n",
    "    min_df=0.2,  # Ignore terms that appear in less than 20% of documents\n",
    "    stop_words=\"english\",  # Exclude common English stop words\n",
    "    use_idf=True,  # Use inverse document frequency weighting\n",
    "    ngram_range=(1, 3),  # Include unigrams, bigrams, and trigrams\n",
    ")"
   ]
  },
  {
   "cell_type": "code",
   "execution_count": 7,
   "id": "8781be0b-3e49-43ff-a9a0-8937768aa443",
   "metadata": {},
   "outputs": [
    {
     "name": "stdout",
     "output_type": "stream",
     "text": [
      "(16559, 59)\n"
     ]
    }
   ],
   "source": [
    "# Fit and transform the TF-IDF vectorizer with the cleaned summaries\n",
    "tfidf_matrix = tfidf_vectorizer.fit_transform(book_df[\"clean_summary\"])\n",
    "\n",
    "# Print the shape of the TF-IDF matrix\n",
    "print(tfidf_matrix.shape)"
   ]
  },
  {
   "cell_type": "markdown",
   "id": "ec064ac8-810b-46d2-972e-dd131df8e738",
   "metadata": {},
   "source": [
    "**5. Similarity Calculation**: Cosine similarity is computed between the TF-IDF vectors to measure the similarity between book summaries."
   ]
  },
  {
   "cell_type": "code",
   "execution_count": 8,
   "id": "e8bf1447-bab5-4b8f-a84a-022c0868d96c",
   "metadata": {
    "scrolled": true
   },
   "outputs": [
    {
     "name": "stdout",
     "output_type": "stream",
     "text": [
      "[[-2.22044605e-16  5.06531107e-01  5.94108812e-01 ...  8.47722571e-01\n",
      "   1.00000000e+00  7.15262047e-01]\n",
      " [ 5.06531107e-01 -2.22044605e-16  4.67487753e-01 ...  8.37637308e-01\n",
      "   1.00000000e+00  6.46287613e-01]\n",
      " [ 5.94108812e-01  4.67487753e-01  0.00000000e+00 ...  7.98069840e-01\n",
      "   1.00000000e+00  5.64933919e-01]\n",
      " ...\n",
      " [ 8.47722571e-01  8.37637308e-01  7.98069840e-01 ...  0.00000000e+00\n",
      "   1.00000000e+00  6.90172240e-01]\n",
      " [ 1.00000000e+00  1.00000000e+00  1.00000000e+00 ...  1.00000000e+00\n",
      "   1.00000000e+00  1.00000000e+00]\n",
      " [ 7.15262047e-01  6.46287613e-01  5.64933919e-01 ...  6.90172240e-01\n",
      "   1.00000000e+00 -2.22044605e-16]]\n"
     ]
    }
   ],
   "source": [
    "# Calculate the similarity distance matrix using cosine similarity\n",
    "similarity_distance = 1 - cosine_similarity(tfidf_matrix)\n",
    "similarity_distance.shape\n",
    "print(similarity_distance)"
   ]
  },
  {
   "cell_type": "markdown",
   "id": "f29a736a-405f-4baa-87bb-71cf49aef384",
   "metadata": {},
   "source": [
    "**6. Defining recommendation function**"
   ]
  },
  {
   "cell_type": "code",
   "execution_count": 9,
   "id": "f36b9550-5eb2-437e-97ff-aa7542a3e8d0",
   "metadata": {},
   "outputs": [],
   "source": [
    "# Define a function to get the nearest books based on similarity distance\n",
    "def get_nearest(title, top_n=3):\n",
    "    try:\n",
    "        idx = np.where(np.array(book_df[\"BookTitle\"]) == title)[0][0]  # Get the index of the input book\n",
    "    except:\n",
    "        print(f\"Book {title} not found. Try again :)\")\n",
    "        return f\"Book {title} not found. Try again :)\"\n",
    "    b = similarity_distance[idx, :]  # Select row of pairwise distances\n",
    "    result_indices = b.argsort()[1 : top_n + 1]  # Sort indices and return top n (excluding the input book)\n",
    "    print(\"You might want to read:\")\n",
    "    for book_title in book_df.loc[result_indices][\"BookTitle\"].values:\n",
    "        print(f\"- {book_title}\")"
   ]
  },
  {
   "cell_type": "markdown",
   "id": "12a9ae90-cb56-43e5-8d98-976811878e72",
   "metadata": {},
   "source": [
    "**7. Recommendation Generation**: Nearest neighbors are identified based on similarity scores, and relevant book recommendations are provided to the user."
   ]
  },
  {
   "cell_type": "code",
   "execution_count": null,
   "id": "e1b0d3fa-7fec-44d3-afb5-f4bf85c45404",
   "metadata": {},
   "outputs": [
    {
     "name": "stdin",
     "output_type": "stream",
     "text": [
      "Enter the title of the book:  Dune\n"
     ]
    },
    {
     "name": "stdout",
     "output_type": "stream",
     "text": [
      "You might want to read:\n",
      "- Charon's Claw\n",
      "- Area 7\n",
      "- Star Wars: Darth Bane: Rule of Two\n"
     ]
    },
    {
     "name": "stdin",
     "output_type": "stream",
     "text": [
      "Enter the title of the book:  Harry Potter and the Prisoner of Azkaban\n"
     ]
    },
    {
     "name": "stdout",
     "output_type": "stream",
     "text": [
      "You might want to read:\n",
      "- Death of a Ghost\n",
      "- The Yellow \"M\"\n",
      "- Dombey and Son\n"
     ]
    },
    {
     "name": "stdin",
     "output_type": "stream",
     "text": [
      "Enter the title of the book:  The Ugly Duckling\n"
     ]
    },
    {
     "name": "stdout",
     "output_type": "stream",
     "text": [
      "You might want to read:\n",
      "- White Oleander\n",
      "- Time for Bed\n",
      "- A White Heron\n"
     ]
    },
    {
     "name": "stdin",
     "output_type": "stream",
     "text": [
      "Enter the title of the book:  Oblomov\n"
     ]
    },
    {
     "name": "stdout",
     "output_type": "stream",
     "text": [
      "You might want to read:\n",
      "- The Hours\n",
      "- The Cancer Ward\n",
      "- Anglo-Saxon Attitudes\n"
     ]
    },
    {
     "name": "stdin",
     "output_type": "stream",
     "text": [
      "Enter the title of the book:  The Autobiography of Alice B. Toklas\n"
     ]
    },
    {
     "name": "stdout",
     "output_type": "stream",
     "text": [
      "You might want to read:\n",
      "- The Song of the Lark\n",
      "- Return to the Clans\n",
      "- Heart of Glass\n"
     ]
    },
    {
     "name": "stdin",
     "output_type": "stream",
     "text": [
      "Enter the title of the book:  Into the Wild\n"
     ]
    },
    {
     "name": "stdout",
     "output_type": "stream",
     "text": [
      "You might want to read:\n",
      "- The Chequer Board\n",
      "- Things as They Are or The Adventures of Caleb Williams\n",
      "- A Romance of the Halifax Disaster\n"
     ]
    }
   ],
   "source": [
    "# Prompt the user to enter the title of a book and get nearest recommendations\n",
    "while True:\n",
    "    user_book = input(\"Enter the title of the book: \")\n",
    "    get_nearest(user_book, top_n=3)"
   ]
  }
 ],
 "metadata": {
  "kernelspec": {
   "display_name": "Python 3 (ipykernel)",
   "language": "python",
   "name": "python3"
  },
  "language_info": {
   "codemirror_mode": {
    "name": "ipython",
    "version": 3
   },
   "file_extension": ".py",
   "mimetype": "text/x-python",
   "name": "python",
   "nbconvert_exporter": "python",
   "pygments_lexer": "ipython3",
   "version": "3.10.7"
  }
 },
 "nbformat": 4,
 "nbformat_minor": 5
}
