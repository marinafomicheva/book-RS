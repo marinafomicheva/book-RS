{
 "cells": [
  {
   "cell_type": "markdown",
   "id": "7440bfca-76e6-4895-820e-3ccf416f2dfc",
   "metadata": {},
   "source": [
    "**Introduction:** This Python script presents a book recommendation system designed to provide personalized reading suggestions based on the named entities extracted from book summaries. "
   ]
  },
  {
   "cell_type": "markdown",
   "id": "e895c7be-5836-4222-aaab-6cbbb8e9c0cf",
   "metadata": {},
   "source": [
    "**1. Import necessary libraries**"
   ]
  },
  {
   "cell_type": "code",
   "execution_count": 1,
   "id": "1e26377d-ec12-4790-9d43-78746f0a575e",
   "metadata": {},
   "outputs": [],
   "source": [
    "import csv\n",
    "from tqdm import tqdm  # for progress tracking\n",
    "import numpy as np\n",
    "import pandas as pd\n",
    "import spacy\n",
    "import re"
   ]
  },
  {
   "cell_type": "markdown",
   "id": "038f76e8-395d-4f68-be94-e1124a7e1746",
   "metadata": {},
   "source": [
    "**2. Data Acquisition:** For our book recommendation system, we used the CMU Book Summary Dataset from Kaggle (https://www.kaggle.com/datasets/ymaricar/cmu-book-summary-dataset). It contains plot summaries for 16 559 books extracted from Wikipedia, along with their metadata."
   ]
  },
  {
   "cell_type": "code",
   "execution_count": 2,
   "id": "317c82ac-0d8c-42b7-86ba-d64796006de9",
   "metadata": {},
   "outputs": [
    {
     "name": "stderr",
     "output_type": "stream",
     "text": [
      "16559it [00:00, 25602.18it/s]\n"
     ]
    }
   ],
   "source": [
    "# Read and process data from the CSV file\n",
    "data = []\n",
    "with open(\"booksummaries.txt\", \"r\") as f:\n",
    "    reader = csv.reader(f, dialect=\"excel-tab\")\n",
    "    for row in tqdm(reader):\n",
    "        data.append(row)"
   ]
  },
  {
   "cell_type": "code",
   "execution_count": 3,
   "id": "3aa89cef-7ba4-490f-a42e-c5f7ab816a5a",
   "metadata": {},
   "outputs": [
    {
     "name": "stderr",
     "output_type": "stream",
     "text": [
      "100%|█████████████████████████████████| 16559/16559 [00:00<00:00, 502867.03it/s]\n"
     ]
    },
    {
     "data": {
      "text/html": [
       "<div>\n",
       "<style scoped>\n",
       "    .dataframe tbody tr th:only-of-type {\n",
       "        vertical-align: middle;\n",
       "    }\n",
       "\n",
       "    .dataframe tbody tr th {\n",
       "        vertical-align: top;\n",
       "    }\n",
       "\n",
       "    .dataframe thead th {\n",
       "        text-align: right;\n",
       "    }\n",
       "</style>\n",
       "<table border=\"1\" class=\"dataframe\">\n",
       "  <thead>\n",
       "    <tr style=\"text-align: right;\">\n",
       "      <th></th>\n",
       "      <th>Index</th>\n",
       "      <th>ID</th>\n",
       "      <th>BookTitle</th>\n",
       "      <th>Author</th>\n",
       "      <th>Genre</th>\n",
       "      <th>Summary</th>\n",
       "    </tr>\n",
       "  </thead>\n",
       "  <tbody>\n",
       "    <tr>\n",
       "      <th>0</th>\n",
       "      <td>1</td>\n",
       "      <td>620</td>\n",
       "      <td>Animal Farm</td>\n",
       "      <td>George Orwell</td>\n",
       "      <td>{\"/m/016lj8\": \"Roman \\u00e0 clef\", \"/m/06nbt\":...</td>\n",
       "      <td>Old Major, the old boar on the Manor Farm, ca...</td>\n",
       "    </tr>\n",
       "    <tr>\n",
       "      <th>1</th>\n",
       "      <td>2</td>\n",
       "      <td>843</td>\n",
       "      <td>A Clockwork Orange</td>\n",
       "      <td>Anthony Burgess</td>\n",
       "      <td>{\"/m/06n90\": \"Science Fiction\", \"/m/0l67h\": \"N...</td>\n",
       "      <td>Alex, a teenager living in near-future Englan...</td>\n",
       "    </tr>\n",
       "    <tr>\n",
       "      <th>2</th>\n",
       "      <td>3</td>\n",
       "      <td>986</td>\n",
       "      <td>The Plague</td>\n",
       "      <td>Albert Camus</td>\n",
       "      <td>{\"/m/02m4t\": \"Existentialism\", \"/m/02xlf\": \"Fi...</td>\n",
       "      <td>The text of The Plague is divided into five p...</td>\n",
       "    </tr>\n",
       "    <tr>\n",
       "      <th>3</th>\n",
       "      <td>4</td>\n",
       "      <td>1756</td>\n",
       "      <td>An Enquiry Concerning Human Understanding</td>\n",
       "      <td>David Hume</td>\n",
       "      <td></td>\n",
       "      <td>The argument of the Enquiry proceeds by a ser...</td>\n",
       "    </tr>\n",
       "    <tr>\n",
       "      <th>4</th>\n",
       "      <td>5</td>\n",
       "      <td>2080</td>\n",
       "      <td>A Fire Upon the Deep</td>\n",
       "      <td>Vernor Vinge</td>\n",
       "      <td>{\"/m/03lrw\": \"Hard science fiction\", \"/m/06n90...</td>\n",
       "      <td>The novel posits that space around the Milky ...</td>\n",
       "    </tr>\n",
       "  </tbody>\n",
       "</table>\n",
       "</div>"
      ],
      "text/plain": [
       "   Index    ID                                  BookTitle           Author  \\\n",
       "0      1   620                                Animal Farm    George Orwell   \n",
       "1      2   843                         A Clockwork Orange  Anthony Burgess   \n",
       "2      3   986                                 The Plague     Albert Camus   \n",
       "3      4  1756  An Enquiry Concerning Human Understanding       David Hume   \n",
       "4      5  2080                       A Fire Upon the Deep     Vernor Vinge   \n",
       "\n",
       "                                               Genre  \\\n",
       "0  {\"/m/016lj8\": \"Roman \\u00e0 clef\", \"/m/06nbt\":...   \n",
       "1  {\"/m/06n90\": \"Science Fiction\", \"/m/0l67h\": \"N...   \n",
       "2  {\"/m/02m4t\": \"Existentialism\", \"/m/02xlf\": \"Fi...   \n",
       "3                                                      \n",
       "4  {\"/m/03lrw\": \"Hard science fiction\", \"/m/06n90...   \n",
       "\n",
       "                                             Summary  \n",
       "0   Old Major, the old boar on the Manor Farm, ca...  \n",
       "1   Alex, a teenager living in near-future Englan...  \n",
       "2   The text of The Plague is divided into five p...  \n",
       "3   The argument of the Enquiry proceeds by a ser...  \n",
       "4   The novel posits that space around the Milky ...  "
      ]
     },
     "execution_count": 3,
     "metadata": {},
     "output_type": "execute_result"
    }
   ],
   "source": [
    "# Extract relevant information from the data and create a DataFrame\n",
    "book_index = []\n",
    "book_id = []\n",
    "book_author = []\n",
    "book_name = []\n",
    "summary = []\n",
    "genre = []\n",
    "a = 1\n",
    "for i in tqdm(data):\n",
    "    book_index.append(a)\n",
    "    a = a + 1\n",
    "    book_id.append(i[0])\n",
    "    book_name.append(i[2])\n",
    "    book_author.append(i[3])\n",
    "    genre.append(i[5])\n",
    "    summary.append(i[6])\n",
    "\n",
    "book_df = pd.DataFrame(\n",
    "    {\n",
    "        \"Index\": book_index,\n",
    "        \"ID\": book_id,\n",
    "        \"BookTitle\": book_name,\n",
    "        \"Author\": book_author,\n",
    "        \"Genre\": genre,\n",
    "        \"Summary\": summary,\n",
    "    }\n",
    ")\n",
    "book_df.head()"
   ]
  },
  {
   "cell_type": "markdown",
   "id": "6d51f778-19e5-4a27-9e26-8fa28124a5ec",
   "metadata": {},
   "source": [
    "**3. Text Preprocessing**: Plot summaries are tokenized using the SpaCy library. "
   ]
  },
  {
   "cell_type": "code",
   "execution_count": 4,
   "id": "06b0eb12-c97a-4543-9122-1af2c2ae143c",
   "metadata": {},
   "outputs": [],
   "source": [
    "# Load the English NER model\n",
    "nlp = spacy.load(\"en_core_web_sm\")"
   ]
  },
  {
   "cell_type": "code",
   "execution_count": 5,
   "id": "e0283c50-4f4a-4acd-bc87-142cb7af7691",
   "metadata": {},
   "outputs": [
    {
     "data": {
      "text/html": [
       "<div>\n",
       "<style scoped>\n",
       "    .dataframe tbody tr th:only-of-type {\n",
       "        vertical-align: middle;\n",
       "    }\n",
       "\n",
       "    .dataframe tbody tr th {\n",
       "        vertical-align: top;\n",
       "    }\n",
       "\n",
       "    .dataframe thead th {\n",
       "        text-align: right;\n",
       "    }\n",
       "</style>\n",
       "<table border=\"1\" class=\"dataframe\">\n",
       "  <thead>\n",
       "    <tr style=\"text-align: right;\">\n",
       "      <th></th>\n",
       "      <th>Index</th>\n",
       "      <th>ID</th>\n",
       "      <th>BookTitle</th>\n",
       "      <th>Author</th>\n",
       "      <th>Genre</th>\n",
       "      <th>Summary</th>\n",
       "      <th>NER_summary</th>\n",
       "    </tr>\n",
       "  </thead>\n",
       "  <tbody>\n",
       "    <tr>\n",
       "      <th>0</th>\n",
       "      <td>1</td>\n",
       "      <td>620</td>\n",
       "      <td>Animal Farm</td>\n",
       "      <td>George Orwell</td>\n",
       "      <td>{\"/m/016lj8\": \"Roman \\u00e0 clef\", \"/m/06nbt\":...</td>\n",
       "      <td>Old Major, the old boar on the Manor Farm, ca...</td>\n",
       "      <td>Old Major the old boar on the Manor Farm calls...</td>\n",
       "    </tr>\n",
       "  </tbody>\n",
       "</table>\n",
       "</div>"
      ],
      "text/plain": [
       "   Index   ID    BookTitle         Author  \\\n",
       "0      1  620  Animal Farm  George Orwell   \n",
       "\n",
       "                                               Genre  \\\n",
       "0  {\"/m/016lj8\": \"Roman \\u00e0 clef\", \"/m/06nbt\":...   \n",
       "\n",
       "                                             Summary  \\\n",
       "0   Old Major, the old boar on the Manor Farm, ca...   \n",
       "\n",
       "                                         NER_summary  \n",
       "0  Old Major the old boar on the Manor Farm calls...  "
      ]
     },
     "execution_count": 5,
     "metadata": {},
     "output_type": "execute_result"
    }
   ],
   "source": [
    "# Clean the summary text using SpaCy and create a new column for cleaned summaries\n",
    "def clean_summary(text):\n",
    "    doc = nlp(text)  # Process the input text using spaCy\n",
    "    cleaned_tokens = [token.text for token in doc if token.is_alpha]  # Retrieve the text of each token\n",
    "    cleaned_text = \" \".join(cleaned_tokens)  # Join the list of cleaned tokens into a single string\n",
    "    return cleaned_text\n",
    "\n",
    "# DataFrame with cleaned summaries\n",
    "book_df[\"NER_summary\"] = book_df[\"Summary\"].apply(lambda x: clean_summary(x))\n",
    "book_df.head(1)"
   ]
  },
  {
   "cell_type": "code",
   "execution_count": 6,
   "id": "f245c8f0-6b88-445f-b4d6-36558bbb61ac",
   "metadata": {},
   "outputs": [],
   "source": [
    "book_df[\"NER_summary\"] = book_df[\"NER_summary\"].astype(\"str\")\n",
    "books = book_df.set_index(\"BookTitle\")[\"NER_summary\"] "
   ]
  },
  {
   "cell_type": "markdown",
   "id": "01524e04-68be-4062-9fb3-1b0a2b088fc7",
   "metadata": {},
   "source": [
    "**4. Extract entities**"
   ]
  },
  {
   "cell_type": "code",
   "execution_count": 7,
   "id": "2430bae6-77c1-49ec-9fcd-317f224b62b4",
   "metadata": {},
   "outputs": [],
   "source": [
    "# Function to extract named entities from text\n",
    "def extract_named_entities(text):\n",
    "    doc = nlp(text)\n",
    "    # Filter named entities by specific labels and store them in a set\n",
    "    named_entities = set(\n",
    "        [\n",
    "            ent.text\n",
    "            for ent in doc.ents\n",
    "            if ent.label_\n",
    "            in {\n",
    "                \"PERSON\",\n",
    "                \"LOC\",\n",
    "                \"ORG\",\n",
    "                \"GPE\",\n",
    "                \"EVENT\",\n",
    "                \"WORK_OF_ART\",\n",
    "                \"LANGUAGE\",\n",
    "                \"LAW\",\n",
    "                \"NORP\",\n",
    "                \"FAC\",\n",
    "            }\n",
    "        ]\n",
    "    )\n",
    "    return named_entities"
   ]
  },
  {
   "cell_type": "code",
   "execution_count": 8,
   "id": "9c90b52f-77e7-489d-8d8a-f210629b21a5",
   "metadata": {},
   "outputs": [
    {
     "data": {
      "text/html": [
       "<div>\n",
       "<style scoped>\n",
       "    .dataframe tbody tr th:only-of-type {\n",
       "        vertical-align: middle;\n",
       "    }\n",
       "\n",
       "    .dataframe tbody tr th {\n",
       "        vertical-align: top;\n",
       "    }\n",
       "\n",
       "    .dataframe thead th {\n",
       "        text-align: right;\n",
       "    }\n",
       "</style>\n",
       "<table border=\"1\" class=\"dataframe\">\n",
       "  <thead>\n",
       "    <tr style=\"text-align: right;\">\n",
       "      <th></th>\n",
       "      <th>Index</th>\n",
       "      <th>ID</th>\n",
       "      <th>BookTitle</th>\n",
       "      <th>Author</th>\n",
       "      <th>Genre</th>\n",
       "      <th>Summary</th>\n",
       "      <th>NER_summary</th>\n",
       "      <th>entities</th>\n",
       "    </tr>\n",
       "  </thead>\n",
       "  <tbody>\n",
       "    <tr>\n",
       "      <th>0</th>\n",
       "      <td>1</td>\n",
       "      <td>620</td>\n",
       "      <td>Animal Farm</td>\n",
       "      <td>George Orwell</td>\n",
       "      <td>{\"/m/016lj8\": \"Roman \\u00e0 clef\", \"/m/06nbt\":...</td>\n",
       "      <td>Old Major, the old boar on the Manor Farm, ca...</td>\n",
       "      <td>Old Major the old boar on the Manor Farm calls...</td>\n",
       "      <td>{Animalism Soon, Animal Farm They, Pilkington,...</td>\n",
       "    </tr>\n",
       "    <tr>\n",
       "      <th>1</th>\n",
       "      <td>2</td>\n",
       "      <td>843</td>\n",
       "      <td>A Clockwork Orange</td>\n",
       "      <td>Anthony Burgess</td>\n",
       "      <td>{\"/m/06n90\": \"Science Fiction\", \"/m/0l67h\": \"N...</td>\n",
       "      <td>Alex, a teenager living in near-future Englan...</td>\n",
       "      <td>Alex a teenager living in near future England ...</td>\n",
       "      <td>{Sentenced, the Korova Milkbar, Alexander, Ale...</td>\n",
       "    </tr>\n",
       "  </tbody>\n",
       "</table>\n",
       "</div>"
      ],
      "text/plain": [
       "   Index   ID           BookTitle           Author  \\\n",
       "0      1  620         Animal Farm    George Orwell   \n",
       "1      2  843  A Clockwork Orange  Anthony Burgess   \n",
       "\n",
       "                                               Genre  \\\n",
       "0  {\"/m/016lj8\": \"Roman \\u00e0 clef\", \"/m/06nbt\":...   \n",
       "1  {\"/m/06n90\": \"Science Fiction\", \"/m/0l67h\": \"N...   \n",
       "\n",
       "                                             Summary  \\\n",
       "0   Old Major, the old boar on the Manor Farm, ca...   \n",
       "1   Alex, a teenager living in near-future Englan...   \n",
       "\n",
       "                                         NER_summary  \\\n",
       "0  Old Major the old boar on the Manor Farm calls...   \n",
       "1  Alex a teenager living in near future England ...   \n",
       "\n",
       "                                            entities  \n",
       "0  {Animalism Soon, Animal Farm They, Pilkington,...  \n",
       "1  {Sentenced, the Korova Milkbar, Alexander, Ale...  "
      ]
     },
     "execution_count": 8,
     "metadata": {},
     "output_type": "execute_result"
    }
   ],
   "source": [
    "# Apply the extract_named_entities function to each book summary and store the results\n",
    "book_df[\"entities\"] = book_df[\"NER_summary\"].apply(lambda x: extract_named_entities(x))\n",
    "# Save book entities to a CSV file for future use\n",
    "book_df[[\"BookTitle\", \"entities\"]].to_csv(\"book_entities.csv\")\n",
    "book_df.head(2)  # Display the first two rows of the DataFram"
   ]
  },
  {
   "cell_type": "markdown",
   "id": "93c161d3-e917-4d6c-a5ed-625267ca9d09",
   "metadata": {},
   "source": [
    "**5.Compute recommendations**:"
   ]
  },
  {
   "cell_type": "code",
   "execution_count": 9,
   "id": "88100cca-a3e5-48a5-9fae-1d4c4a7c0272",
   "metadata": {},
   "outputs": [],
   "source": [
    "book_df = book_df.set_index(\"BookTitle\")[\"entities\"]  # Set BookTitle as index for easier access"
   ]
  },
  {
   "cell_type": "code",
   "execution_count": 15,
   "id": "817f536d-399e-498d-a8a8-9e80d816a927",
   "metadata": {},
   "outputs": [],
   "source": [
    "# Function to convert entity strings to sets\n",
    "def convert_to_set(entities: str):\n",
    "    return set(entities)"
   ]
  },
  {
   "cell_type": "code",
   "execution_count": 16,
   "id": "99dabb43-c5a1-40f8-99b1-71cab998eeb2",
   "metadata": {},
   "outputs": [],
   "source": [
    "# Function to compute entity similarity between two books\n",
    "def compute_entity_similarity(id1, id2):\n",
    "    entities1 = convert_to_set(book_df.iloc[id1])\n",
    "    entities2 = convert_to_set(book_df.iloc[id2])\n",
    "    intersecting_entities = set.intersection(entities1, entities2)\n",
    "    overlap_ratio = 0\n",
    "    min_entities = min(len(entities1), len(entities2))\n",
    "    if min_entities > 0:\n",
    "        overlap_ratio = len(intersecting_entities) / min_entities\n",
    "    return {\n",
    "        \"intersecting_entities\": list(intersecting_entities),\n",
    "        \"num_intersecting\": len(intersecting_entities),\n",
    "        \"overlap_ratio\": overlap_ratio,\n",
    "    }"
   ]
  },
  {
   "cell_type": "code",
   "execution_count": 17,
   "id": "b13f4ec7-5152-4428-8b83-3e3c6d53fed0",
   "metadata": {},
   "outputs": [],
   "source": [
    "# Function to get nearest books based on entity similarity\n",
    "def get_nearest(title, top_n=3):\n",
    "    # Get index of the given book title\n",
    "    try:\n",
    "        idx = np.where(np.array(book_df.index) == title)[0][0]\n",
    "    except:\n",
    "        print(f\"Book {title} not found. Try again :)\")\n",
    "        return f\"Book {title} not found. Try again :)\"\n",
    "    # Calculate entity similarity scores with all other books\n",
    "    similarity_distance = np.array(\n",
    "        [\n",
    "            -compute_entity_similarity(idx, i)[\"overlap_ratio\"]\n",
    "            for i in range(0, len(book_df))\n",
    "        ]\n",
    "    )\n",
    "    # Sort indices and return top n (excluding the book itself)\n",
    "    result_indices = similarity_distance.argsort()[0 : top_n + 1]\n",
    "    result_indices_filtered = [x for x in result_indices if x != idx]\n",
    "    print(\"You might want to read:\")\n",
    "    # Display recommended book titles\n",
    "    for book_title in book_df.index[result_indices_filtered].values:\n",
    "        print(f\"- {book_title}\")"
   ]
  },
  {
   "cell_type": "code",
   "execution_count": 18,
   "id": "07702a72-dcf2-409c-9714-4b55ac53fa00",
   "metadata": {},
   "outputs": [
    {
     "name": "stdout",
     "output_type": "stream",
     "text": [
      "You might want to read:\n",
      "- The Winds of Dune\n",
      "- Children of Dune\n",
      "- Dune: House Corrino\n"
     ]
    }
   ],
   "source": [
    "get_nearest(\"Dune\")"
   ]
  },
  {
   "cell_type": "code",
   "execution_count": 19,
   "id": "fb3ba587-8caf-4175-a78a-96f753a542a4",
   "metadata": {},
   "outputs": [
    {
     "name": "stdout",
     "output_type": "stream",
     "text": [
      "You might want to read:\n",
      "- Into Thin Air: A Personal Account of the Mt. Everest Disaster\n",
      "- Darkness Descends\n",
      "- The Royal Mess\n"
     ]
    }
   ],
   "source": [
    "get_nearest(\"Into the Wild\", top_n=3)"
   ]
  },
  {
   "cell_type": "code",
   "execution_count": 26,
   "id": "702ad7f2-1a70-4dad-9870-05532af28a33",
   "metadata": {},
   "outputs": [
    {
     "name": "stdout",
     "output_type": "stream",
     "text": [
      "You might want to read:\n",
      "- The Intuitionist\n",
      "- Here Comes the Sun\n",
      "- A Cage of Eagles\n",
      "- The Moneypenny Diaries: Guardian Angel\n",
      "- All-Consuming Fire\n"
     ]
    }
   ],
   "source": [
    "get_nearest(\"James Bond: The Authorised Biography of 007\", top_n=5)"
   ]
  },
  {
   "cell_type": "code",
   "execution_count": 22,
   "id": "f6bb48f4-4b64-4e9a-b88d-e69deea4b3df",
   "metadata": {},
   "outputs": [
    {
     "name": "stdout",
     "output_type": "stream",
     "text": [
      "You might want to read:\n",
      "- Harry the Dirty Dog\n",
      "- Man and Boy\n",
      "- The Drop\n"
     ]
    }
   ],
   "source": [
    "get_nearest(\"Harry Potter and the Half-Blood Prince\", top_n=3)"
   ]
  },
  {
   "cell_type": "code",
   "execution_count": 23,
   "id": "3e408fc6-4a2e-4c4a-9466-546787f7b9bd",
   "metadata": {},
   "outputs": [
    {
     "name": "stdout",
     "output_type": "stream",
     "text": [
      "You might want to read:\n",
      "- Harry the Dirty Dog\n",
      "- Man and Boy\n",
      "- The Drop\n",
      "- A Dedicated Man\n",
      "- Harry Potter and the Philosopher's Stone\n",
      "- Harry Potter and the Deathly Hallows\n",
      "- Harry Potter and the Chamber of Secrets\n",
      "- Harry Potter and the Order of the Phoenix\n",
      "- Harry Potter and the Goblet of Fire\n",
      "- Dragon Tears\n"
     ]
    }
   ],
   "source": [
    "get_nearest(\"Harry Potter and the Half-Blood Prince\", top_n=10)"
   ]
  },
  {
   "cell_type": "code",
   "execution_count": 24,
   "id": "c66937ef-cdb7-4f1c-8cf8-d40b94de8109",
   "metadata": {},
   "outputs": [
    {
     "name": "stdout",
     "output_type": "stream",
     "text": [
      "You might want to read:\n",
      "- By the River Piedra I Sat Down and Wept\n",
      "- G.O.G. 666\n",
      "- Le gang des gaffeurs\n"
     ]
    }
   ],
   "source": [
    "get_nearest(\"War and Peace\", top_n=3)"
   ]
  },
  {
   "cell_type": "code",
   "execution_count": 25,
   "id": "d792b271-907f-44aa-90eb-eb70bc7b8707",
   "metadata": {},
   "outputs": [
    {
     "name": "stdout",
     "output_type": "stream",
     "text": [
      "You might want to read:\n",
      "- The Sentimentalists\n",
      "- Crazy Love: Overwhelmed by a Relentless God\n",
      "- Absolutely American\n"
     ]
    }
   ],
   "source": [
    "get_nearest(\"iWoz: Computer Geek to Cult Icon - How I Invented the Personal Computer, Co-Founded Apple, and Had Fun Doing It\", top_n=3)"
   ]
  }
 ],
 "metadata": {
  "kernelspec": {
   "display_name": "Python 3 (ipykernel)",
   "language": "python",
   "name": "python3"
  },
  "language_info": {
   "codemirror_mode": {
    "name": "ipython",
    "version": 3
   },
   "file_extension": ".py",
   "mimetype": "text/x-python",
   "name": "python",
   "nbconvert_exporter": "python",
   "pygments_lexer": "ipython3",
   "version": "3.10.7"
  }
 },
 "nbformat": 4,
 "nbformat_minor": 5
}
